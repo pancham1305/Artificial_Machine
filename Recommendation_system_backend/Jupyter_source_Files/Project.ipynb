{
 "cells": [
  {
   "cell_type": "code",
   "execution_count": 2,
   "id": "4ca498d3",
   "metadata": {},
   "outputs": [],
   "source": [
    "import pandas as pd\n",
    "import numpy as np\n",
    "import matplotlib.pyplot as plt\n",
    "from sklearn.model_selection import train_test_split"
   ]
  },
  {
   "cell_type": "code",
   "execution_count": 291,
   "id": "aa4541bf",
   "metadata": {},
   "outputs": [],
   "source": [
    "df = pd.read_csv(\"Customer Feedback.csv\")\n",
    "pd.set_option(\"display.max_rows\", None)"
   ]
  },
  {
   "cell_type": "code",
   "execution_count": 14,
   "id": "31cfc6de",
   "metadata": {},
   "outputs": [
    {
     "data": {
      "text/html": [
       "<div>\n",
       "<style scoped>\n",
       "    .dataframe tbody tr th:only-of-type {\n",
       "        vertical-align: middle;\n",
       "    }\n",
       "\n",
       "    .dataframe tbody tr th {\n",
       "        vertical-align: top;\n",
       "    }\n",
       "\n",
       "    .dataframe thead th {\n",
       "        text-align: right;\n",
       "    }\n",
       "</style>\n",
       "<table border=\"1\" class=\"dataframe\">\n",
       "  <thead>\n",
       "    <tr style=\"text-align: right;\">\n",
       "      <th></th>\n",
       "      <th>Timestamp</th>\n",
       "      <th>age</th>\n",
       "      <th>gender</th>\n",
       "      <th>which type of product you prefer more</th>\n",
       "      <th>what type of taste you prefer more</th>\n",
       "      <th>what you prefer more in snacks ?</th>\n",
       "      <th>you generally buy on the basis of</th>\n",
       "    </tr>\n",
       "  </thead>\n",
       "  <tbody>\n",
       "    <tr>\n",
       "      <th>0</th>\n",
       "      <td>2022/05/28 5:20:03 pm GMT+5:30</td>\n",
       "      <td>19.0</td>\n",
       "      <td>male</td>\n",
       "      <td>Namkeen (ex haldiram);biscuit ( parle g)</td>\n",
       "      <td>sweet</td>\n",
       "      <td>quality</td>\n",
       "      <td>public opinions</td>\n",
       "    </tr>\n",
       "    <tr>\n",
       "      <th>1</th>\n",
       "      <td>2022/05/28 5:30:22 pm GMT+5:30</td>\n",
       "      <td>19.0</td>\n",
       "      <td>male</td>\n",
       "      <td>Namkeen (ex haldiram);chocolate ( dairy milk);...</td>\n",
       "      <td>neutral</td>\n",
       "      <td>quality</td>\n",
       "      <td>personal choice</td>\n",
       "    </tr>\n",
       "    <tr>\n",
       "      <th>2</th>\n",
       "      <td>2022/05/28 5:31:11 pm GMT+5:30</td>\n",
       "      <td>18.0</td>\n",
       "      <td>male</td>\n",
       "      <td>chips / kurkure (ex lays )</td>\n",
       "      <td>chilly</td>\n",
       "      <td>quality</td>\n",
       "      <td>personal choice</td>\n",
       "    </tr>\n",
       "    <tr>\n",
       "      <th>3</th>\n",
       "      <td>2022/05/28 5:32:02 pm GMT+5:30</td>\n",
       "      <td>19.0</td>\n",
       "      <td>male</td>\n",
       "      <td>chips / kurkure (ex lays )</td>\n",
       "      <td>chilly</td>\n",
       "      <td>quality</td>\n",
       "      <td>personal choice</td>\n",
       "    </tr>\n",
       "    <tr>\n",
       "      <th>4</th>\n",
       "      <td>2022/05/28 5:33:59 pm GMT+5:30</td>\n",
       "      <td>19.0</td>\n",
       "      <td>male</td>\n",
       "      <td>chips / kurkure (ex lays );drinks / juice ( fu...</td>\n",
       "      <td>chilly</td>\n",
       "      <td>quality</td>\n",
       "      <td>personal choice</td>\n",
       "    </tr>\n",
       "    <tr>\n",
       "      <th>...</th>\n",
       "      <td>...</td>\n",
       "      <td>...</td>\n",
       "      <td>...</td>\n",
       "      <td>...</td>\n",
       "      <td>...</td>\n",
       "      <td>...</td>\n",
       "      <td>...</td>\n",
       "    </tr>\n",
       "    <tr>\n",
       "      <th>67</th>\n",
       "      <td>2022/05/28 10:15:38 pm GMT+5:30</td>\n",
       "      <td>19.0</td>\n",
       "      <td>female</td>\n",
       "      <td>Namkeen (ex haldiram)</td>\n",
       "      <td>chilly</td>\n",
       "      <td>quality</td>\n",
       "      <td>personal choice</td>\n",
       "    </tr>\n",
       "    <tr>\n",
       "      <th>68</th>\n",
       "      <td>2022/05/28 10:33:55 pm GMT+5:30</td>\n",
       "      <td>60.0</td>\n",
       "      <td>Prefer not to say</td>\n",
       "      <td>drinks / juice ( furity);protein products (pro...</td>\n",
       "      <td>neutral</td>\n",
       "      <td>quality</td>\n",
       "      <td>personal choice</td>\n",
       "    </tr>\n",
       "    <tr>\n",
       "      <th>69</th>\n",
       "      <td>2022/05/28 10:45:44 pm GMT+5:30</td>\n",
       "      <td>18.0</td>\n",
       "      <td>male</td>\n",
       "      <td>Namkeen (ex haldiram);chips / kurkure (ex lays )</td>\n",
       "      <td>chilly</td>\n",
       "      <td>quality</td>\n",
       "      <td>personal choice</td>\n",
       "    </tr>\n",
       "    <tr>\n",
       "      <th>70</th>\n",
       "      <td>2022/05/28 10:46:53 pm GMT+5:30</td>\n",
       "      <td>18.0</td>\n",
       "      <td>female</td>\n",
       "      <td>chocolate ( dairy milk);protein products (prot...</td>\n",
       "      <td>chilly</td>\n",
       "      <td>quality</td>\n",
       "      <td>personal choice</td>\n",
       "    </tr>\n",
       "    <tr>\n",
       "      <th>71</th>\n",
       "      <td>2022/05/28 10:50:21 pm GMT+5:30</td>\n",
       "      <td>18.0</td>\n",
       "      <td>female</td>\n",
       "      <td>chocolate ( dairy milk)</td>\n",
       "      <td>chilly</td>\n",
       "      <td>quantity</td>\n",
       "      <td>personal choice</td>\n",
       "    </tr>\n",
       "  </tbody>\n",
       "</table>\n",
       "<p>72 rows × 7 columns</p>\n",
       "</div>"
      ],
      "text/plain": [
       "                          Timestamp  age             gender   \\\n",
       "0    2022/05/28 5:20:03 pm GMT+5:30  19.0               male   \n",
       "1    2022/05/28 5:30:22 pm GMT+5:30  19.0               male   \n",
       "2    2022/05/28 5:31:11 pm GMT+5:30  18.0               male   \n",
       "3    2022/05/28 5:32:02 pm GMT+5:30  19.0               male   \n",
       "4    2022/05/28 5:33:59 pm GMT+5:30  19.0               male   \n",
       "..                              ...   ...                ...   \n",
       "67  2022/05/28 10:15:38 pm GMT+5:30  19.0             female   \n",
       "68  2022/05/28 10:33:55 pm GMT+5:30  60.0  Prefer not to say   \n",
       "69  2022/05/28 10:45:44 pm GMT+5:30  18.0               male   \n",
       "70  2022/05/28 10:46:53 pm GMT+5:30  18.0             female   \n",
       "71  2022/05/28 10:50:21 pm GMT+5:30  18.0             female   \n",
       "\n",
       "                which type of product you prefer more  \\\n",
       "0            Namkeen (ex haldiram);biscuit ( parle g)   \n",
       "1   Namkeen (ex haldiram);chocolate ( dairy milk);...   \n",
       "2                          chips / kurkure (ex lays )   \n",
       "3                          chips / kurkure (ex lays )   \n",
       "4   chips / kurkure (ex lays );drinks / juice ( fu...   \n",
       "..                                                ...   \n",
       "67                              Namkeen (ex haldiram)   \n",
       "68  drinks / juice ( furity);protein products (pro...   \n",
       "69   Namkeen (ex haldiram);chips / kurkure (ex lays )   \n",
       "70  chocolate ( dairy milk);protein products (prot...   \n",
       "71                            chocolate ( dairy milk)   \n",
       "\n",
       "   what type of taste you prefer more  what you prefer more in snacks ?  \\\n",
       "0                                sweet                          quality   \n",
       "1                              neutral                          quality   \n",
       "2                               chilly                          quality   \n",
       "3                               chilly                          quality   \n",
       "4                               chilly                          quality   \n",
       "..                                 ...                              ...   \n",
       "67                              chilly                          quality   \n",
       "68                             neutral                          quality   \n",
       "69                              chilly                          quality   \n",
       "70                              chilly                          quality   \n",
       "71                              chilly                         quantity   \n",
       "\n",
       "   you generally buy on the basis of   \n",
       "0                     public opinions  \n",
       "1                     personal choice  \n",
       "2                     personal choice  \n",
       "3                     personal choice  \n",
       "4                     personal choice  \n",
       "..                                ...  \n",
       "67                    personal choice  \n",
       "68                    personal choice  \n",
       "69                    personal choice  \n",
       "70                    personal choice  \n",
       "71                    personal choice  \n",
       "\n",
       "[72 rows x 7 columns]"
      ]
     },
     "execution_count": 14,
     "metadata": {},
     "output_type": "execute_result"
    }
   ],
   "source": [
    "df"
   ]
  },
  {
   "cell_type": "code",
   "execution_count": 7,
   "id": "b857748a",
   "metadata": {},
   "outputs": [
    {
     "data": {
      "text/plain": [
       "Index(['Timestamp', 'age ', 'gender ', 'which type of product you prefer more',\n",
       "       'what type of taste you prefer more ',\n",
       "       'what you prefer more in snacks ?',\n",
       "       'you generally buy on the basis of '],\n",
       "      dtype='object')"
      ]
     },
     "execution_count": 7,
     "metadata": {},
     "output_type": "execute_result"
    }
   ],
   "source": [
    "df.keys()"
   ]
  },
  {
   "cell_type": "code",
   "execution_count": 9,
   "id": "234e9728",
   "metadata": {},
   "outputs": [],
   "source": [
    "x = df[[\"age \", 'gender ']]"
   ]
  },
  {
   "cell_type": "code",
   "execution_count": 10,
   "id": "d0d39fb1",
   "metadata": {},
   "outputs": [
    {
     "data": {
      "text/html": [
       "<div>\n",
       "<style scoped>\n",
       "    .dataframe tbody tr th:only-of-type {\n",
       "        vertical-align: middle;\n",
       "    }\n",
       "\n",
       "    .dataframe tbody tr th {\n",
       "        vertical-align: top;\n",
       "    }\n",
       "\n",
       "    .dataframe thead th {\n",
       "        text-align: right;\n",
       "    }\n",
       "</style>\n",
       "<table border=\"1\" class=\"dataframe\">\n",
       "  <thead>\n",
       "    <tr style=\"text-align: right;\">\n",
       "      <th></th>\n",
       "      <th>age</th>\n",
       "      <th>gender</th>\n",
       "    </tr>\n",
       "  </thead>\n",
       "  <tbody>\n",
       "    <tr>\n",
       "      <th>0</th>\n",
       "      <td>19.0</td>\n",
       "      <td>male</td>\n",
       "    </tr>\n",
       "    <tr>\n",
       "      <th>1</th>\n",
       "      <td>19.0</td>\n",
       "      <td>male</td>\n",
       "    </tr>\n",
       "    <tr>\n",
       "      <th>2</th>\n",
       "      <td>18.0</td>\n",
       "      <td>male</td>\n",
       "    </tr>\n",
       "    <tr>\n",
       "      <th>3</th>\n",
       "      <td>19.0</td>\n",
       "      <td>male</td>\n",
       "    </tr>\n",
       "    <tr>\n",
       "      <th>4</th>\n",
       "      <td>19.0</td>\n",
       "      <td>male</td>\n",
       "    </tr>\n",
       "  </tbody>\n",
       "</table>\n",
       "</div>"
      ],
      "text/plain": [
       "   age  gender \n",
       "0  19.0    male\n",
       "1  19.0    male\n",
       "2  18.0    male\n",
       "3  19.0    male\n",
       "4  19.0    male"
      ]
     },
     "execution_count": 10,
     "metadata": {},
     "output_type": "execute_result"
    }
   ],
   "source": [
    "x.head()"
   ]
  },
  {
   "cell_type": "code",
   "execution_count": 24,
   "id": "45c12b40",
   "metadata": {},
   "outputs": [
    {
     "name": "stderr",
     "output_type": "stream",
     "text": [
      "C:\\Users\\91797\\AppData\\Local\\Temp/ipykernel_17748/4266809903.py:1: SettingWithCopyWarning: \n",
      "A value is trying to be set on a copy of a slice from a DataFrame.\n",
      "Try using .loc[row_indexer,col_indexer] = value instead\n",
      "\n",
      "See the caveats in the documentation: https://pandas.pydata.org/pandas-docs/stable/user_guide/indexing.html#returning-a-view-versus-a-copy\n",
      "  x[\"gender \"] = x[\"gender \"].replace([\"Prefer not to say\"], \"male\")\n"
     ]
    }
   ],
   "source": [
    "x[\"gender \"] = x[\"gender \"].replace([\"Prefer not to say\"], \"male\")"
   ]
  },
  {
   "cell_type": "code",
   "execution_count": 31,
   "id": "970d5a43",
   "metadata": {},
   "outputs": [
    {
     "data": {
      "text/plain": [
       "4"
      ]
     },
     "execution_count": 31,
     "metadata": {},
     "output_type": "execute_result"
    }
   ],
   "source": [
    "len(set(df[\"what type of taste you prefer more \"]))"
   ]
  },
  {
   "cell_type": "code",
   "execution_count": 32,
   "id": "874e6e74",
   "metadata": {},
   "outputs": [],
   "source": [
    "from sklearn.preprocessing import LabelEncoder\n",
    "target = LabelEncoder()"
   ]
  },
  {
   "cell_type": "code",
   "execution_count": 34,
   "id": "43f1a2e7",
   "metadata": {},
   "outputs": [],
   "source": [
    "target = target.fit_transform(df[\"what type of taste you prefer more \"])"
   ]
  },
  {
   "cell_type": "code",
   "execution_count": 38,
   "id": "94f6018c",
   "metadata": {},
   "outputs": [],
   "source": [
    "features = x\n",
    "k = pd.get_dummies(features[\"gender \"])"
   ]
  },
  {
   "cell_type": "code",
   "execution_count": 39,
   "id": "12db256c",
   "metadata": {},
   "outputs": [
    {
     "data": {
      "text/plain": [
       "(72, 2)"
      ]
     },
     "execution_count": 39,
     "metadata": {},
     "output_type": "execute_result"
    }
   ],
   "source": [
    "k.shape"
   ]
  },
  {
   "cell_type": "code",
   "execution_count": 48,
   "id": "1eaf2813",
   "metadata": {},
   "outputs": [],
   "source": [
    "features = pd.concat([features, k], axis=1)"
   ]
  },
  {
   "cell_type": "code",
   "execution_count": 50,
   "id": "77800106",
   "metadata": {},
   "outputs": [],
   "source": [
    "features.drop([\"gender \", \"male\"], axis=1, inplace=True)"
   ]
  },
  {
   "cell_type": "code",
   "execution_count": 53,
   "id": "b79426f8",
   "metadata": {},
   "outputs": [
    {
     "data": {
      "text/html": [
       "<div>\n",
       "<style scoped>\n",
       "    .dataframe tbody tr th:only-of-type {\n",
       "        vertical-align: middle;\n",
       "    }\n",
       "\n",
       "    .dataframe tbody tr th {\n",
       "        vertical-align: top;\n",
       "    }\n",
       "\n",
       "    .dataframe thead th {\n",
       "        text-align: right;\n",
       "    }\n",
       "</style>\n",
       "<table border=\"1\" class=\"dataframe\">\n",
       "  <thead>\n",
       "    <tr style=\"text-align: right;\">\n",
       "      <th></th>\n",
       "      <th>age</th>\n",
       "      <th>gender</th>\n",
       "    </tr>\n",
       "  </thead>\n",
       "  <tbody>\n",
       "    <tr>\n",
       "      <th>0</th>\n",
       "      <td>19.0</td>\n",
       "      <td>0</td>\n",
       "    </tr>\n",
       "    <tr>\n",
       "      <th>1</th>\n",
       "      <td>19.0</td>\n",
       "      <td>0</td>\n",
       "    </tr>\n",
       "    <tr>\n",
       "      <th>2</th>\n",
       "      <td>18.0</td>\n",
       "      <td>0</td>\n",
       "    </tr>\n",
       "    <tr>\n",
       "      <th>3</th>\n",
       "      <td>19.0</td>\n",
       "      <td>0</td>\n",
       "    </tr>\n",
       "    <tr>\n",
       "      <th>4</th>\n",
       "      <td>19.0</td>\n",
       "      <td>0</td>\n",
       "    </tr>\n",
       "    <tr>\n",
       "      <th>...</th>\n",
       "      <td>...</td>\n",
       "      <td>...</td>\n",
       "    </tr>\n",
       "    <tr>\n",
       "      <th>67</th>\n",
       "      <td>19.0</td>\n",
       "      <td>1</td>\n",
       "    </tr>\n",
       "    <tr>\n",
       "      <th>68</th>\n",
       "      <td>60.0</td>\n",
       "      <td>0</td>\n",
       "    </tr>\n",
       "    <tr>\n",
       "      <th>69</th>\n",
       "      <td>18.0</td>\n",
       "      <td>0</td>\n",
       "    </tr>\n",
       "    <tr>\n",
       "      <th>70</th>\n",
       "      <td>18.0</td>\n",
       "      <td>1</td>\n",
       "    </tr>\n",
       "    <tr>\n",
       "      <th>71</th>\n",
       "      <td>18.0</td>\n",
       "      <td>1</td>\n",
       "    </tr>\n",
       "  </tbody>\n",
       "</table>\n",
       "<p>72 rows × 2 columns</p>\n",
       "</div>"
      ],
      "text/plain": [
       "    age   gender\n",
       "0   19.0       0\n",
       "1   19.0       0\n",
       "2   18.0       0\n",
       "3   19.0       0\n",
       "4   19.0       0\n",
       "..   ...     ...\n",
       "67  19.0       1\n",
       "68  60.0       0\n",
       "69  18.0       0\n",
       "70  18.0       1\n",
       "71  18.0       1\n",
       "\n",
       "[72 rows x 2 columns]"
      ]
     },
     "execution_count": 53,
     "metadata": {},
     "output_type": "execute_result"
    }
   ],
   "source": [
    "features.rename(columns = {\"female\": \"gender\"})"
   ]
  },
  {
   "cell_type": "code",
   "execution_count": 55,
   "id": "1849d000",
   "metadata": {},
   "outputs": [],
   "source": [
    "target = np.array(target)"
   ]
  },
  {
   "cell_type": "code",
   "execution_count": 261,
   "id": "fd27b122",
   "metadata": {},
   "outputs": [],
   "source": [
    "x_train, x_test, y_train, y_test = train_test_split(features, target, train_size=0.9)"
   ]
  },
  {
   "cell_type": "code",
   "execution_count": 250,
   "id": "0e0c65e7",
   "metadata": {},
   "outputs": [],
   "source": [
    "from sklearn import tree"
   ]
  },
  {
   "cell_type": "code",
   "execution_count": 262,
   "id": "c9d0c301",
   "metadata": {},
   "outputs": [
    {
     "data": {
      "text/plain": [
       "DecisionTreeClassifier()"
      ]
     },
     "execution_count": 262,
     "metadata": {},
     "output_type": "execute_result"
    }
   ],
   "source": [
    "model = tree.DecisionTreeClassifier()\n",
    "model.fit(x_train, y_train)"
   ]
  },
  {
   "cell_type": "code",
   "execution_count": 263,
   "id": "9b1a9b68",
   "metadata": {},
   "outputs": [
    {
     "data": {
      "text/plain": [
       "array([0, 0, 0, 0, 0, 3, 0, 1])"
      ]
     },
     "execution_count": 263,
     "metadata": {},
     "output_type": "execute_result"
    }
   ],
   "source": [
    "model.predict(x_test)"
   ]
  },
  {
   "cell_type": "code",
   "execution_count": 264,
   "id": "078b08e7",
   "metadata": {},
   "outputs": [
    {
     "data": {
      "text/plain": [
       "0.375"
      ]
     },
     "execution_count": 264,
     "metadata": {},
     "output_type": "execute_result"
    }
   ],
   "source": [
    "model.score(x_test, y_test)"
   ]
  },
  {
   "cell_type": "code",
   "execution_count": 265,
   "id": "ad47f091",
   "metadata": {},
   "outputs": [
    {
     "data": {
      "text/plain": [
       "array([1, 2, 0, 3, 1, 3, 0, 3])"
      ]
     },
     "execution_count": 265,
     "metadata": {},
     "output_type": "execute_result"
    }
   ],
   "source": [
    "y_test"
   ]
  },
  {
   "cell_type": "code",
   "execution_count": 266,
   "id": "a8df75c2",
   "metadata": {},
   "outputs": [],
   "source": [
    "from sklearn.ensemble import RandomForestClassifier"
   ]
  },
  {
   "cell_type": "code",
   "execution_count": 97,
   "id": "0e9eca8e",
   "metadata": {},
   "outputs": [],
   "source": [
    "model2 = RandomForestClassifier(n_estimators=50, criterion=\"gini\")"
   ]
  },
  {
   "cell_type": "code",
   "execution_count": 267,
   "id": "5d910fdd",
   "metadata": {},
   "outputs": [
    {
     "data": {
      "text/plain": [
       "RandomForestClassifier(n_estimators=50)"
      ]
     },
     "execution_count": 267,
     "metadata": {},
     "output_type": "execute_result"
    }
   ],
   "source": [
    "model2.fit(x_train, y_train)"
   ]
  },
  {
   "cell_type": "code",
   "execution_count": 268,
   "id": "5edec125",
   "metadata": {},
   "outputs": [
    {
     "data": {
      "text/plain": [
       "array([0, 3, 0, 0, 0, 3, 0, 1])"
      ]
     },
     "execution_count": 268,
     "metadata": {},
     "output_type": "execute_result"
    }
   ],
   "source": [
    "model2.predict(x_test)"
   ]
  },
  {
   "cell_type": "code",
   "execution_count": 269,
   "id": "dff647ff",
   "metadata": {},
   "outputs": [
    {
     "data": {
      "text/plain": [
       "0.375"
      ]
     },
     "execution_count": 269,
     "metadata": {},
     "output_type": "execute_result"
    }
   ],
   "source": [
    "model2.score(x_test, y_test)"
   ]
  },
  {
   "cell_type": "code",
   "execution_count": 270,
   "id": "b73d0966",
   "metadata": {},
   "outputs": [
    {
     "data": {
      "text/plain": [
       "array([[2, 0, 0, 0],\n",
       "       [2, 0, 0, 0],\n",
       "       [0, 0, 0, 1],\n",
       "       [1, 1, 0, 1]], dtype=int64)"
      ]
     },
     "execution_count": 270,
     "metadata": {},
     "output_type": "execute_result"
    }
   ],
   "source": [
    "from sklearn.metrics import confusion_matrix\n",
    "predicted = model2.predict(x_test)\n",
    "cm = confusion_matrix(y_test, predicted)\n",
    "cm"
   ]
  },
  {
   "cell_type": "code",
   "execution_count": 271,
   "id": "7e8703ee",
   "metadata": {},
   "outputs": [
    {
     "data": {
      "text/plain": [
       "Text(33.0, 0.5, 'true')"
      ]
     },
     "execution_count": 271,
     "metadata": {},
     "output_type": "execute_result"
    },
    {
     "data": {
      "image/png": "[encoded data removed]",
      "text/plain": [
       "<Figure size 432x288 with 2 Axes>"
      ]
     },
     "metadata": {
      "needs_background": "light"
     },
     "output_type": "display_data"
    }
   ],
   "source": [
    "import seaborn as sn\n",
    "sn.heatmap(cm, annot=True)\n",
    "plt.xlabel(\"predicted\")\n",
    "plt.ylabel(\"true\")"
   ]
  },
  {
   "cell_type": "code",
   "execution_count": 272,
   "id": "9ef2f499",
   "metadata": {},
   "outputs": [],
   "source": [
    "features2 = df[[\"what you prefer more in snacks ?\", \"you generally buy on the basis of \"]]"
   ]
  },
  {
   "cell_type": "code",
   "execution_count": 273,
   "id": "4065e3e5",
   "metadata": {},
   "outputs": [],
   "source": [
    "k = pd.get_dummies(features2[\"what you prefer more in snacks ?\"])\n",
    "m = pd.get_dummies(features2[\"you generally buy on the basis of \"])"
   ]
  },
  {
   "cell_type": "code",
   "execution_count": 274,
   "id": "957d0ed4",
   "metadata": {},
   "outputs": [],
   "source": [
    "features2 = pd.concat([features, k, m], axis=1)"
   ]
  },
  {
   "cell_type": "code",
   "execution_count": 275,
   "id": "bba3762c",
   "metadata": {},
   "outputs": [],
   "source": [
    "features2.drop([\"quantity\", \"personal choice\"], inplace=True, axis=1)"
   ]
  },
  {
   "cell_type": "code",
   "execution_count": 276,
   "id": "49ed7eb3",
   "metadata": {},
   "outputs": [
    {
     "data": {
      "text/html": [
       "<div>\n",
       "<style scoped>\n",
       "    .dataframe tbody tr th:only-of-type {\n",
       "        vertical-align: middle;\n",
       "    }\n",
       "\n",
       "    .dataframe tbody tr th {\n",
       "        vertical-align: top;\n",
       "    }\n",
       "\n",
       "    .dataframe thead th {\n",
       "        text-align: right;\n",
       "    }\n",
       "</style>\n",
       "<table border=\"1\" class=\"dataframe\">\n",
       "  <thead>\n",
       "    <tr style=\"text-align: right;\">\n",
       "      <th></th>\n",
       "      <th>age</th>\n",
       "      <th>female</th>\n",
       "      <th>quality</th>\n",
       "      <th>public opinions</th>\n",
       "    </tr>\n",
       "  </thead>\n",
       "  <tbody>\n",
       "    <tr>\n",
       "      <th>0</th>\n",
       "      <td>19.0</td>\n",
       "      <td>0</td>\n",
       "      <td>1</td>\n",
       "      <td>1</td>\n",
       "    </tr>\n",
       "    <tr>\n",
       "      <th>1</th>\n",
       "      <td>19.0</td>\n",
       "      <td>0</td>\n",
       "      <td>1</td>\n",
       "      <td>0</td>\n",
       "    </tr>\n",
       "    <tr>\n",
       "      <th>2</th>\n",
       "      <td>18.0</td>\n",
       "      <td>0</td>\n",
       "      <td>1</td>\n",
       "      <td>0</td>\n",
       "    </tr>\n",
       "    <tr>\n",
       "      <th>3</th>\n",
       "      <td>19.0</td>\n",
       "      <td>0</td>\n",
       "      <td>1</td>\n",
       "      <td>0</td>\n",
       "    </tr>\n",
       "    <tr>\n",
       "      <th>4</th>\n",
       "      <td>19.0</td>\n",
       "      <td>0</td>\n",
       "      <td>1</td>\n",
       "      <td>0</td>\n",
       "    </tr>\n",
       "  </tbody>\n",
       "</table>\n",
       "</div>"
      ],
      "text/plain": [
       "   age   female  quality  public opinions\n",
       "0  19.0       0        1                1\n",
       "1  19.0       0        1                0\n",
       "2  18.0       0        1                0\n",
       "3  19.0       0        1                0\n",
       "4  19.0       0        1                0"
      ]
     },
     "execution_count": 276,
     "metadata": {},
     "output_type": "execute_result"
    }
   ],
   "source": [
    "features2.head()"
   ]
  },
  {
   "cell_type": "code",
   "execution_count": 277,
   "id": "d90bc914",
   "metadata": {},
   "outputs": [],
   "source": [
    "features2.rename(columns={\"public opinions\":\"opinions\"}, inplace=True)"
   ]
  },
  {
   "cell_type": "code",
   "execution_count": 278,
   "id": "0ac9c24f",
   "metadata": {},
   "outputs": [
    {
     "data": {
      "text/html": [
       "<div>\n",
       "<style scoped>\n",
       "    .dataframe tbody tr th:only-of-type {\n",
       "        vertical-align: middle;\n",
       "    }\n",
       "\n",
       "    .dataframe tbody tr th {\n",
       "        vertical-align: top;\n",
       "    }\n",
       "\n",
       "    .dataframe thead th {\n",
       "        text-align: right;\n",
       "    }\n",
       "</style>\n",
       "<table border=\"1\" class=\"dataframe\">\n",
       "  <thead>\n",
       "    <tr style=\"text-align: right;\">\n",
       "      <th></th>\n",
       "      <th>age</th>\n",
       "      <th>female</th>\n",
       "      <th>quality</th>\n",
       "      <th>opinions</th>\n",
       "    </tr>\n",
       "  </thead>\n",
       "  <tbody>\n",
       "    <tr>\n",
       "      <th>0</th>\n",
       "      <td>19.0</td>\n",
       "      <td>0</td>\n",
       "      <td>1</td>\n",
       "      <td>1</td>\n",
       "    </tr>\n",
       "    <tr>\n",
       "      <th>1</th>\n",
       "      <td>19.0</td>\n",
       "      <td>0</td>\n",
       "      <td>1</td>\n",
       "      <td>0</td>\n",
       "    </tr>\n",
       "    <tr>\n",
       "      <th>2</th>\n",
       "      <td>18.0</td>\n",
       "      <td>0</td>\n",
       "      <td>1</td>\n",
       "      <td>0</td>\n",
       "    </tr>\n",
       "    <tr>\n",
       "      <th>3</th>\n",
       "      <td>19.0</td>\n",
       "      <td>0</td>\n",
       "      <td>1</td>\n",
       "      <td>0</td>\n",
       "    </tr>\n",
       "    <tr>\n",
       "      <th>4</th>\n",
       "      <td>19.0</td>\n",
       "      <td>0</td>\n",
       "      <td>1</td>\n",
       "      <td>0</td>\n",
       "    </tr>\n",
       "    <tr>\n",
       "      <th>...</th>\n",
       "      <td>...</td>\n",
       "      <td>...</td>\n",
       "      <td>...</td>\n",
       "      <td>...</td>\n",
       "    </tr>\n",
       "    <tr>\n",
       "      <th>67</th>\n",
       "      <td>19.0</td>\n",
       "      <td>1</td>\n",
       "      <td>1</td>\n",
       "      <td>0</td>\n",
       "    </tr>\n",
       "    <tr>\n",
       "      <th>68</th>\n",
       "      <td>60.0</td>\n",
       "      <td>0</td>\n",
       "      <td>1</td>\n",
       "      <td>0</td>\n",
       "    </tr>\n",
       "    <tr>\n",
       "      <th>69</th>\n",
       "      <td>18.0</td>\n",
       "      <td>0</td>\n",
       "      <td>1</td>\n",
       "      <td>0</td>\n",
       "    </tr>\n",
       "    <tr>\n",
       "      <th>70</th>\n",
       "      <td>18.0</td>\n",
       "      <td>1</td>\n",
       "      <td>1</td>\n",
       "      <td>0</td>\n",
       "    </tr>\n",
       "    <tr>\n",
       "      <th>71</th>\n",
       "      <td>18.0</td>\n",
       "      <td>1</td>\n",
       "      <td>0</td>\n",
       "      <td>0</td>\n",
       "    </tr>\n",
       "  </tbody>\n",
       "</table>\n",
       "<p>72 rows × 4 columns</p>\n",
       "</div>"
      ],
      "text/plain": [
       "    age   female  quality  opinions\n",
       "0   19.0       0        1         1\n",
       "1   19.0       0        1         0\n",
       "2   18.0       0        1         0\n",
       "3   19.0       0        1         0\n",
       "4   19.0       0        1         0\n",
       "..   ...     ...      ...       ...\n",
       "67  19.0       1        1         0\n",
       "68  60.0       0        1         0\n",
       "69  18.0       0        1         0\n",
       "70  18.0       1        1         0\n",
       "71  18.0       1        0         0\n",
       "\n",
       "[72 rows x 4 columns]"
      ]
     },
     "execution_count": 278,
     "metadata": {},
     "output_type": "execute_result"
    }
   ],
   "source": [
    "features2"
   ]
  },
  {
   "cell_type": "code",
   "execution_count": 279,
   "id": "dae66448",
   "metadata": {},
   "outputs": [],
   "source": [
    "model3 = RandomForestClassifier(n_estimators=150, criterion=\"entropy\")"
   ]
  },
  {
   "cell_type": "code",
   "execution_count": 280,
   "id": "60444413",
   "metadata": {},
   "outputs": [],
   "source": [
    "x_train, x_test, y_train, y_test = train_test_split(features2, target, train_size=0.9)"
   ]
  },
  {
   "cell_type": "code",
   "execution_count": 281,
   "id": "85fb946f",
   "metadata": {},
   "outputs": [
    {
     "data": {
      "text/plain": [
       "RandomForestClassifier(criterion='entropy', n_estimators=150)"
      ]
     },
     "execution_count": 281,
     "metadata": {},
     "output_type": "execute_result"
    }
   ],
   "source": [
    "model3.fit(x_train, y_train)"
   ]
  },
  {
   "cell_type": "code",
   "execution_count": 282,
   "id": "e6dd26da",
   "metadata": {},
   "outputs": [
    {
     "data": {
      "text/plain": [
       "array([3, 0, 0, 3, 0, 3, 0, 3])"
      ]
     },
     "execution_count": 282,
     "metadata": {},
     "output_type": "execute_result"
    }
   ],
   "source": [
    "model3.predict(x_test)"
   ]
  },
  {
   "cell_type": "code",
   "execution_count": 283,
   "id": "56a84130",
   "metadata": {},
   "outputs": [
    {
     "data": {
      "text/plain": [
       "0.625"
      ]
     },
     "execution_count": 283,
     "metadata": {},
     "output_type": "execute_result"
    }
   ],
   "source": [
    "model3.score(x_test, y_test)"
   ]
  },
  {
   "cell_type": "code",
   "execution_count": 187,
   "id": "6fb92015",
   "metadata": {},
   "outputs": [],
   "source": [
    "features3 = features2.drop([\"age \"], inplace=False, axis=1)"
   ]
  },
  {
   "cell_type": "code",
   "execution_count": 214,
   "id": "3aa90fee",
   "metadata": {},
   "outputs": [],
   "source": [
    "model4 = RandomForestClassifier(n_estimators=150, criterion=\"entropy\")\n",
    "x_train, x_test, y_train, y_test = train_test_split(features3, target, train_size=0.9)"
   ]
  },
  {
   "cell_type": "code",
   "execution_count": 215,
   "id": "d44861b9",
   "metadata": {},
   "outputs": [
    {
     "data": {
      "text/plain": [
       "RandomForestClassifier(criterion='entropy', n_estimators=150)"
      ]
     },
     "execution_count": 215,
     "metadata": {},
     "output_type": "execute_result"
    }
   ],
   "source": [
    "model4.fit(x_train, y_train)"
   ]
  },
  {
   "cell_type": "code",
   "execution_count": 216,
   "id": "bab0d75f",
   "metadata": {},
   "outputs": [
    {
     "data": {
      "text/plain": [
       "0.5"
      ]
     },
     "execution_count": 216,
     "metadata": {},
     "output_type": "execute_result"
    }
   ],
   "source": [
    "model4.score(x_test, y_test)"
   ]
  },
  {
   "cell_type": "code",
   "execution_count": 285,
   "id": "fc4c9c47",
   "metadata": {},
   "outputs": [],
   "source": [
    "import pickle"
   ]
  },
  {
   "cell_type": "code",
   "execution_count": 286,
   "id": "d95a0bed",
   "metadata": {},
   "outputs": [],
   "source": [
    "with open(\"Final_model\", \"wb\") as f:\n",
    "    pickle.dump(model3, f)"
   ]
  },
  {
   "cell_type": "code",
   "execution_count": 287,
   "id": "a9c41044",
   "metadata": {},
   "outputs": [],
   "source": [
    "with open(\"Final_model\", \"rb\") as f:\n",
    "    dummy = pickle.load(f)"
   ]
  },
  {
   "cell_type": "code",
   "execution_count": 288,
   "id": "9558c36d",
   "metadata": {},
   "outputs": [
    {
     "data": {
      "text/html": [
       "<div>\n",
       "<style scoped>\n",
       "    .dataframe tbody tr th:only-of-type {\n",
       "        vertical-align: middle;\n",
       "    }\n",
       "\n",
       "    .dataframe tbody tr th {\n",
       "        vertical-align: top;\n",
       "    }\n",
       "\n",
       "    .dataframe thead th {\n",
       "        text-align: right;\n",
       "    }\n",
       "</style>\n",
       "<table border=\"1\" class=\"dataframe\">\n",
       "  <thead>\n",
       "    <tr style=\"text-align: right;\">\n",
       "      <th></th>\n",
       "      <th>age</th>\n",
       "      <th>female</th>\n",
       "      <th>quality</th>\n",
       "      <th>opinions</th>\n",
       "    </tr>\n",
       "  </thead>\n",
       "  <tbody>\n",
       "    <tr>\n",
       "      <th>46</th>\n",
       "      <td>18.0</td>\n",
       "      <td>0</td>\n",
       "      <td>1</td>\n",
       "      <td>0</td>\n",
       "    </tr>\n",
       "    <tr>\n",
       "      <th>45</th>\n",
       "      <td>20.0</td>\n",
       "      <td>0</td>\n",
       "      <td>1</td>\n",
       "      <td>0</td>\n",
       "    </tr>\n",
       "    <tr>\n",
       "      <th>41</th>\n",
       "      <td>18.0</td>\n",
       "      <td>1</td>\n",
       "      <td>1</td>\n",
       "      <td>0</td>\n",
       "    </tr>\n",
       "    <tr>\n",
       "      <th>50</th>\n",
       "      <td>18.0</td>\n",
       "      <td>0</td>\n",
       "      <td>1</td>\n",
       "      <td>0</td>\n",
       "    </tr>\n",
       "    <tr>\n",
       "      <th>66</th>\n",
       "      <td>18.0</td>\n",
       "      <td>1</td>\n",
       "      <td>1</td>\n",
       "      <td>0</td>\n",
       "    </tr>\n",
       "    <tr>\n",
       "      <th>9</th>\n",
       "      <td>18.0</td>\n",
       "      <td>0</td>\n",
       "      <td>1</td>\n",
       "      <td>0</td>\n",
       "    </tr>\n",
       "    <tr>\n",
       "      <th>54</th>\n",
       "      <td>19.0</td>\n",
       "      <td>1</td>\n",
       "      <td>1</td>\n",
       "      <td>0</td>\n",
       "    </tr>\n",
       "    <tr>\n",
       "      <th>21</th>\n",
       "      <td>19.0</td>\n",
       "      <td>0</td>\n",
       "      <td>1</td>\n",
       "      <td>0</td>\n",
       "    </tr>\n",
       "  </tbody>\n",
       "</table>\n",
       "</div>"
      ],
      "text/plain": [
       "    age   female  quality  opinions\n",
       "46  18.0       0        1         0\n",
       "45  20.0       0        1         0\n",
       "41  18.0       1        1         0\n",
       "50  18.0       0        1         0\n",
       "66  18.0       1        1         0\n",
       "9   18.0       0        1         0\n",
       "54  19.0       1        1         0\n",
       "21  19.0       0        1         0"
      ]
     },
     "execution_count": 288,
     "metadata": {},
     "output_type": "execute_result"
    }
   ],
   "source": [
    "x_test"
   ]
  },
  {
   "cell_type": "code",
   "execution_count": 290,
   "id": "67473031",
   "metadata": {},
   "outputs": [
    {
     "data": {
      "text/plain": [
       "array([3])"
      ]
     },
     "execution_count": 290,
     "metadata": {},
     "output_type": "execute_result"
    }
   ],
   "source": [
    "dummy.predict([[18, 0, 1, 0]])"
   ]
  },
  {
   "cell_type": "code",
   "execution_count": 292,
   "id": "3bcfe77d",
   "metadata": {},
   "outputs": [
    {
     "data": {
      "text/plain": [
       "'personal choice'"
      ]
     },
     "execution_count": 292,
     "metadata": {},
     "output_type": "execute_result"
    }
   ],
   "source": [
    "df.loc[46].at[\"you generally buy on the basis of \"]"
   ]
  },
  {
   "cell_type": "code",
   "execution_count": 294,
   "id": "2fe3b4f2",
   "metadata": {},
   "outputs": [],
   "source": [
    "#automation of input\n",
    "def predictor(age, gender, quality, opinions):\n",
    "    if gender.capitalize == \"Female\":\n",
    "        gender = 1\n",
    "    if gender.capitalize == 'Male':\n",
    "        gender = 0\n",
    "    if quality.capitalize == \"Quality\":\n",
    "        quality = 1\n",
    "    if quality.capitalize == \"Quantity\":\n",
    "        quality = 0\n",
    "    if opinions.capitalize == \"personal choice\":\n",
    "        opinions = 0\n",
    "    if opinions.capitalize == \"public opinions\":\n",
    "        opinions = 1\n",
    "    return dummy.predict[[age, gender, quality, opinions]]"
   ]
  },
  {
   "cell_type": "code",
   "execution_count": null,
   "id": "d1843894",
   "metadata": {},
   "outputs": [],
   "source": []
  }
 ],
 "metadata": {
  "kernelspec": {
   "display_name": "Python 3 (ipykernel)",
   "language": "python",
   "name": "python3"
  },
  "language_info": {
   "codemirror_mode": {
    "name": "ipython",
    "version": 3
   },
   "file_extension": ".py",
   "mimetype": "text/x-python",
   "name": "python",
   "nbconvert_exporter": "python",
   "pygments_lexer": "ipython3",
   "version": "3.9.7"
  }
 },
 "nbformat": 4,
 "nbformat_minor": 5
}
